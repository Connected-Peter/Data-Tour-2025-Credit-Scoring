{
  "nbformat": 4,
  "nbformat_minor": 0,
  "metadata": {
    "colab": {
      "provenance": [],
      "mount_file_id": "12HhSBxtTtEtj-xSiFLyKPyzRbDfeENnf",
      "authorship_tag": "ABX9TyOdQq6UgfygXpYpU3HqQ6/Y",
      "include_colab_link": true
    },
    "kernelspec": {
      "name": "python3",
      "display_name": "Python 3"
    },
    "language_info": {
      "name": "python"
    }
  },
  "cells": [
    {
      "cell_type": "markdown",
      "metadata": {
        "id": "view-in-github",
        "colab_type": "text"
      },
      "source": [
        "<a href=\"https://colab.research.google.com/github/Connected-Peter/Data-Tour-2025-Credit-Scoring/blob/main/01_Project_Setup.ipynb\" target=\"_parent\"><img src=\"https://colab.research.google.com/assets/colab-badge.svg\" alt=\"Open In Colab\"/></a>"
      ]
    },
    {
      "cell_type": "code",
      "source": [],
      "metadata": {
        "id": "irMY573idSON"
      },
      "execution_count": null,
      "outputs": []
    },
    {
      "cell_type": "code",
      "source": [
        "import os, textwrap\n",
        "\n",
        "base = '/content/drive/MyDrive/DataTour2025-CreditScoring'\n",
        "folders = [\n",
        "    'data/raw',\n",
        "    'data/processed',\n",
        "    'notebooks',\n",
        "    'src',\n",
        "    'models',\n",
        "    'submissions',\n",
        "    'reports/figures',\n",
        "    'docs'\n",
        "]\n",
        "\n",
        "os.makedirs(base, exist_ok=True)\n",
        "for f in folders:\n",
        "    os.makedirs(os.path.join(base, f), exist_ok=True)\n",
        "\n",
        "readme = textwrap.dedent(\"\"\"\n",
        "# DataTour 2025 - Credit Scoring (Team: GTF)\n",
        "\n",
        "**Project:** National phase of DataTour 2025 — Credit default prediction based on historical loan data.\n",
        "\n",
        "## Context\n",
        "Access to credit is a key lever of economic development. This project aims to build models to predict loan default (flag = 1) vs correct repayment (flag = 0) using customers' credit histories.\n",
        "Approaches include tabular ML models (LightGBM, CatBoost, XGBoost) and sequential neural models (LSTM/Transformer) on payment sequences.\n",
        "\n",
        "## Dataset Notes\n",
        "- Each row = a credit product for a customer.\n",
        "- Key columns: `id`, `flag`, `rn`, `pre_*` (loan metadata), `enc_paym_*` (payment sequence), categorical encoders like `enc_loans_credit_type`, flags `pclose_flag` / `fclose_flag`, etc.\n",
        "- Evaluation metric: ROC AUC.\n",
        "- Submission format: `.parquet` with columns `id`, `target`.\n",
        "\n",
        "\"\"\").strip()\n",
        "\n",
        "with open(os.path.join(base, 'README.md'), 'w') as f:\n",
        "    f.write(readme)\n",
        "\n",
        "# show result\n",
        "for root, dirs, files in os.walk(base):\n",
        "    level = root.replace(base, '').count(os.sep)\n",
        "    indent = ' ' * 4 * level\n",
        "    print(f\"{indent}{os.path.basename(root)}/\")\n",
        "    subindent = ' ' * 4 * (level + 1)\n",
        "    for d in dirs:\n",
        "        print(f\"{subindent}{d}/\")\n",
        "    for fn in files:\n",
        "        print(f\"{subindent}{fn}\")\n"
      ],
      "metadata": {
        "id": "Ta5RZDkDhhcz"
      },
      "execution_count": null,
      "outputs": []
    },
    {
      "cell_type": "code",
      "source": [],
      "metadata": {
        "id": "eYAacUEcjPR6"
      },
      "execution_count": 1,
      "outputs": []
    }
  ]
}